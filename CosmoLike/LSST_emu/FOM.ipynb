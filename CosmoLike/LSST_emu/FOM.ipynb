{
 "cells": [
  {
   "cell_type": "code",
   "execution_count": 12,
   "metadata": {},
   "outputs": [
    {
     "name": "stdout",
     "output_type": "stream",
     "text": [
      "1.0\n",
      "/Users/timeifler/Dropbox/cosmolike_store/WFIRST_LSST/like/like_3x2pt_LSST_Y10_area=1.800000e+04_dmo\n",
      "128.84357911372751\n",
      "/Users/timeifler/Dropbox/cosmolike_store/WFIRST_LSST/like/like_3x2pt_WFIRST_area=2.000000e+03_dmo\n",
      "79.35666223905365\n",
      "/Users/timeifler/Dropbox/cosmolike_store/WFIRST_LSST/like/like_3x2pt_WFIRST_area=1.800000e+04_dmo\n",
      "329.5058349434907\n"
     ]
    }
   ],
   "source": [
    "import numpy as np\n",
    "import os\n",
    "from numpy.linalg import inv\n",
    "from numpy.linalg import det\n",
    "\n",
    "list1=[\"like_3x2pt_LSST_Y10_area=1.800000e+04_dmo\",\"like_3x2pt_WFIRST_area=2.000000e+03_dmo\",\"like_3x2pt_WFIRST_area=1.800000e+04_dmo\"]\n",
    "\n",
    "FOMDE=np.array([1.0,1.0,1.0])\n",
    "i=0\n",
    "FOMDE[i]\n",
    "print FOMDE[i]\n",
    "\n",
    "\n",
    "for name in list1:\n",
    "    i=0\n",
    "    filen=\"/Users/timeifler/Dropbox/cosmolike_store/WFIRST_LSST/like/\"+name\n",
    "    print filen\n",
    "    d1 = np.genfromtxt(filen)\n",
    "    #d1.shape\n",
    "    cov=np.cov(d1[896000:,:],rowvar=False)\n",
    "    covDE=cov[np.ix_([3,4],[3,4])]\n",
    "    FM=inv(cov) \n",
    "    FOMDE[i]=(np.power(det(inv(covDE)),1./2))\n",
    "    print FOMDE[i]\n",
    "    i=i+1\n",
    "\n",
    "\n",
    "\n",
    "\n",
    "\n"
   ]
  },
  {
   "cell_type": "code",
   "execution_count": 36,
   "metadata": {},
   "outputs": [
    {
     "name": "stdout",
     "output_type": "stream",
     "text": [
      "1.0 1.0 1.0\n",
      "1960000 2100000 1100.3013482034612\n",
      "2100000 2240000 908.1773673599295\n",
      "2240000 2380000 737.1055949425391\n",
      "2380000 2520000 610.4951264503551\n",
      "2520000 2660000 497.8881239338567\n",
      "2660000 2800000 413.44182481601825\n",
      "2800000 2940000 353.80867852864714\n",
      "2940000 3080000 309.69742359992887\n",
      "3080000 3220000 268.0163622451852\n",
      "3220000 3360000 240.59555000206254\n"
     ]
    }
   ],
   "source": [
    "FOMDE=np.array([1.0,1.0,1.0])\n",
    "print FOMDE[2]/FOMDE[0],FOMDE[2]/FOMDE[1],FOMDE[2]\n",
    "\n",
    "for i in range(0,10):\n",
    "#     filen1=\"/Users/timeifler/Dropbox/cosmolike_store/WFIRST_LSST/like/like_3x2pt_LSST_Y10_area=1.800000e+04_dmo\"\n",
    "#     filen2=\"/Users/timeifler/Dropbox/cosmolike_store/WFIRST_LSST/like/like_3x2pt_WFIRST_area=2.000000e+03_dmo\"\n",
    "    filen3=\"/Users/timeifler/Dropbox/cosmolike_store/WFIRST_LSST/like/like_3x2pt_WFIRST_area=1.800000e+04_dmo\"\n",
    "#     d1 = np.genfromtxt(filen1)\n",
    "#     d2 = np.genfromtxt(filen2)\n",
    "    d3 = np.genfromtxt(filen3,skip_header=1960000,skip_footer=5600000)\n",
    "#     cov1=np.cov(d1[1120000+i*140000:1120000+(i+1)*140000:,:],rowvar=False)\n",
    "#     cov2=np.cov(d2[1120000+i*140000:1120000+(i+1)*140000:,:],rowvar=False)\n",
    "    cov3=np.cov(d3[i*140000:(i+1)*140000:,:],rowvar=False)\n",
    "#     covDE1=cov1[np.ix_([3,4],[3,4])]\n",
    "#     covDE2=cov2[np.ix_([3,4],[3,4])]\n",
    "    covDE3=cov3[np.ix_([3,4],[3,4])]\n",
    "#     FOMDE[0]=(np.power(det(inv(covDE1)),1./2))\n",
    "#     FOMDE[1]=(np.power(det(inv(covDE2)),1./2))\n",
    "    FOMDE[2]=(np.power(det(inv(covDE3)),1./2))\n",
    "    print 1960000+i*140000,1960000+(i+1)*140000, FOMDE[2]\n",
    "#     print FOMDE[2]/FOMDE[0],FOMDE[2]/FOMDE[1],FOMDE[2]\n"
   ]
  },
  {
   "cell_type": "code",
   "execution_count": 64,
   "metadata": {},
   "outputs": [
    {
     "data": {
      "text/plain": [
       "array([ 0.30321151,  7.92792124])"
      ]
     },
     "execution_count": 64,
     "metadata": {},
     "output_type": "execute_result"
    }
   ],
   "source": [
    "1960000 2100000 1100.3013482034612\n",
    "2100000 2240000 908.1773673599295\n",
    "2240000 2380000 737.1055949425391\n",
    "2380000 2520000 610.4951264503551\n",
    "2520000 2660000 497.8881239338567\n",
    "2660000 2800000 413.44182481601825\n",
    "2800000 2940000 353.80867852864714\n",
    "2940000 3080000 309.69742359992887\n",
    "3080000 3220000 268.0163622451852\n",
    "3220000 3360000 240.59555000206254\n",
    "3360000 3500000 215.12803895989322\n",
    "3500000 3640000 192.11923603185588\n",
    "3640000 3780000 181.87655632817672\n",
    "3780000 3920000 168.15533301698633\n",
    "3920000 4060000 158.63073132530397\n",
    "4060000 4200000 151.49892041113796\n",
    "4200000 4340000 145.6506090971617\n",
    "4340000 4480000 143.48796891743015\n",
    "4480000 4620000 141.3486722104667\n",
    "4620000 4760000 138.97378940979894\n",
    "4760000 4900000 136.22158126042348\n",
    "4900000 5040000 134.41878162217128\n",
    "5040000 5180000 133.29458853321762\n",
    "5180000 5320000 131.0431830409328\n",
    "5320000 5460000 130.22669876151846\n",
    "5460000 5600000 130.99592136147064\n",
    "5600000 5740000 129.22502027923073\n",
    "5740000 5880000 130.77125916391137\n",
    "5880000 6020000 130.09764218274984\n",
    "6020000 6160000 126.67724552468555\n",
    "6160000 6300000 122.42959616724033\n",
    "6300000 6440000 124.37408415027204\n",
    "6440000 6580000 124.03726655861661\n",
    "6580000 6720000 123.62803130407252\n",
    "6720000 6860000 124.88271997716551\n",
    "6860000 7000000 124.1844061918784\n",
    "7000000 7140000 124.32282119777723\n",
    "7140000 7280000 125.78941672996298\n",
    "7280000 7420000 125.73639114606316\n",
    "7420000 7560000 126.45592490607777\n",
    "7560000 7700000 125.35883355190005\n",
    "7700000 7840000 124.48660363886982\n",
    "7840000 7980000 122.59761442994119\n",
    "7980000 8120000 122.40629082125653\n",
    "8120000 8260000 125.09972382596968\n",
    "8260000 8400000 124.36736395429818\n",
    "8400000 8540000 122.68254771503786\n",
    "8540000 8680000 123.50022141172903\n",
    "8680000 8820000 123.16983823839772\n",
    "8820000 8960000 126.4807533442912\n"
   ]
  },
  {
   "cell_type": "code",
   "execution_count": 65,
   "metadata": {},
   "outputs": [
    {
     "data": {
      "text/plain": [
       "array([ 0.96346347,  1.75521987])"
      ]
     },
     "execution_count": 65,
     "metadata": {},
     "output_type": "execute_result"
    }
   ],
   "source": [
    "fit2"
   ]
  },
  {
   "cell_type": "code",
   "execution_count": null,
   "metadata": {
    "collapsed": true
   },
   "outputs": [],
   "source": []
  }
 ],
 "metadata": {
  "kernelspec": {
   "display_name": "Python 2",
   "language": "python",
   "name": "python2"
  },
  "language_info": {
   "codemirror_mode": {
    "name": "ipython",
    "version": 2
   },
   "file_extension": ".py",
   "mimetype": "text/x-python",
   "name": "python",
   "nbconvert_exporter": "python",
   "pygments_lexer": "ipython2",
   "version": "2.7.15"
  }
 },
 "nbformat": 4,
 "nbformat_minor": 2
}
